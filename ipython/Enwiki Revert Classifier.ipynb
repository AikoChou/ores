{
 "metadata": {
  "name": "",
  "signature": "sha256:509f9b7829c9e904a41f40101b99675fc86e801acc80f9d103fb122f340f1604"
 },
 "nbformat": 3,
 "nbformat_minor": 0,
 "worksheets": [
  {
   "cells": [
    {
     "cell_type": "markdown",
     "metadata": {},
     "source": [
      "# Building and testing the enwiki revert classifer\n",
      "In this notebook, I'm going to build a revscores classification model for reverts in Wikipedia.  \n",
      "\n",
      "## Revision sample\n",
      "In order to build up a classifer, we'll need labeled data.  In order to gather such a set of labeled data, I chose to make use of Quarry.  http://quarry.wmflabs.org/query/1621 queries for a random sample of recent revisions that were saved between 2 and 30 days ago.\n",
      "\n",
      "## Labels and features\n",
      "I've written a script to help gather both the labels and reverted status of these revisions.  \n",
      "\n",
      "    Gathers a set of features and reverted status for a set of revisions and\n",
      "    prints a TSV to stdout of the format:\n",
      "\n",
      "    <feature_value1>\\t<feature_value2>\\t...\\t<reverted>\n",
      "\n",
      "    Usage:\n",
      "        features_reverted -h | --help\n",
      "        features_reverted --api=<url> --language=<clspath> <features> [--rev_ids=<path>]\n",
      "        \n",
      "    Options:\n",
      "        -h --help             Prints out this documentation\n",
      "        <features>            The ClassPath to a list of features to extract.\n",
      "        --api=<url>           The url of the API to use to extract features\n",
      "        --language=<clspath>  The ClassPath to a language to use (required for some\n",
      "                              features)\n",
      "        --rev_pages=<path>    The location of a file containing rev_ids and\n",
      "                              page_ids to extract. [default: <stdin>]\n",
      "\n",
      "I've already prepared a list of features to extract in ores.models.enwiki.features, so that can just be used by the script. "
     ]
    },
    {
     "cell_type": "code",
     "collapsed": false,
     "input": [
      "import sys;sys.path.insert(0, \"../\") # Makes ores package accessible\n",
      "from ores.models.enwiki import features\n",
      "features"
     ],
     "language": "python",
     "metadata": {},
     "outputs": [
      {
       "metadata": {},
       "output_type": "pyout",
       "prompt_number": 1,
       "text": [
        "[<log(added_badwords_ratio + 1)>,\n",
        " <log(added_misspellings_ratio + 1)>,\n",
        " <log(longest_repeated_char_added + 1)>,\n",
        " <log(longest_token_added + 1)>,\n",
        " <log(numeric_chars_added + 1)>,\n",
        " <log(prev_words + 1)>,\n",
        " <log(proportion_of_markup_added + 1)>,\n",
        " <log(proportion_of_numeric_added + 1)>,\n",
        " <log(proportion_of_symbolic_added + 1)>,\n",
        " <log(proportion_of_uppercase_added + 1)>,\n",
        " <log(seconds_since_last_page_edit + 1)>,\n",
        " <log(words_added + 1)>,\n",
        " <log(words_removed + 1)>,\n",
        " <log(user_age_in_seconds + 1)>,\n",
        " <user_is_anon>,\n",
        " <user_is_bot>,\n",
        " <day_of_week_in_utc>,\n",
        " <hour_of_day_in_utc>,\n",
        " <is_custom_comment>,\n",
        " <is_content_namespace>,\n",
        " <is_section_comment>]"
       ]
      }
     ],
     "prompt_number": 1
    },
    {
     "cell_type": "markdown",
     "metadata": {},
     "source": [
      "OK.  Time to gather features and reverted status.  To do so, I run the following:\n",
      "\n",
      "    $ cat datasets/enwiki.rev_pages.5k.tsv | tail -n+2 | \\\n",
      "      ./features_reverted \\\n",
      "          --api=https://en.wikipedia.org/w/api.php \\\n",
      "          --language=revscores.languages.english \\\n",
      "          ores.models.enwiki.features > \\\n",
      "      datasets/enwiki.features_reverted.5k.tsv\n",
      "\n",
      "A few of the revisions won't be found -- which is fine.  We'll just have to work with the remaining data.  So, let's load it in!"
     ]
    },
    {
     "cell_type": "code",
     "collapsed": false,
     "input": [
      "feature_scores = []\n",
      "with open(\"../datasets/enwiki.features_reverted.5k.tsv\") as f:\n",
      "    for line in f:\n",
      "        parts = line.strip().split(\"\\t\")\n",
      "        values = parts[:-1]\n",
      "        reverted = parts[-1] == \"True\"\n",
      "        \n",
      "        feature_values = []\n",
      "        for feature, value in zip(features, values):\n",
      "            \n",
      "            if feature.returns == bool:\n",
      "                feature_values.append(value == \"True\")\n",
      "            else:\n",
      "                feature_values.append(feature.returns(value))\n",
      "    \n",
      "        feature_scores.append((feature_values, reverted))\n",
      "\n",
      "len(feature_scores)"
     ],
     "language": "python",
     "metadata": {},
     "outputs": [
      {
       "metadata": {},
       "output_type": "pyout",
       "prompt_number": 2,
       "text": [
        "4982"
       ]
      }
     ],
     "prompt_number": 2
    },
    {
     "cell_type": "markdown",
     "metadata": {},
     "source": [
      "## Training the models\n",
      "\n",
      "Now we'll use the extracted features to train some models.  For this section, I'll use an RBF and Linear kernel Support Vector Classifiers."
     ]
    },
    {
     "cell_type": "code",
     "collapsed": false,
     "input": [
      "from ores.models.enwiki import linear_svc, rbf_svc\n",
      "from random import shuffle\n",
      "\n",
      "shuffle(feature_scores) # Randomize the set\n",
      "\n",
      "train_set = feature_scores[1000:] # Nearly 4000 training observations\n",
      "test_set = feature_scores[:1000]  # 1000 test observations\n",
      "\n",
      "print(linear_svc.train(train_set))\n",
      "print(rbf_svc.train(train_set))"
     ],
     "language": "python",
     "metadata": {},
     "outputs": [
      {
       "output_type": "stream",
       "stream": "stdout",
       "text": [
        "{'seconds_elapsed': 13.189335584640503}\n",
        "{'seconds_elapsed': 4.040912389755249}"
       ]
      },
      {
       "output_type": "stream",
       "stream": "stdout",
       "text": [
        "\n"
       ]
      }
     ],
     "prompt_number": 3
    },
    {
     "cell_type": "markdown",
     "metadata": {},
     "source": [
      "## Testing the models\n",
      "\n",
      "First, the linear kernel."
     ]
    },
    {
     "cell_type": "code",
     "collapsed": false,
     "input": [
      "import matplotlib.pyplot as plt\n",
      "\n",
      "stats = linear_svc.test(test_set)\n",
      "print(\"mean.accuracy = {0}\".format(stats['mean.accuracy']))\n",
      "print(\"auc = {0}\".format(stats['auc']))\n",
      "\n",
      "\n",
      "plt.figure()\n",
      "plt.plot(stats['roc']['fpr'],\n",
      "         stats['roc']['tpr'], \n",
      "         label='ROC curve')\n",
      "plt.plot([0, 1], [0, 1], 'k--')\n",
      "plt.xlabel('False Positive Rate')\n",
      "plt.ylabel('True Positive Rate')\n",
      "plt.show()"
     ],
     "language": "python",
     "metadata": {},
     "outputs": [
      {
       "output_type": "stream",
       "stream": "stdout",
       "text": [
        "mean.accuracy = 0.939\n",
        "auc = 0.8344070252623126\n"
       ]
      },
      {
       "metadata": {},
       "output_type": "display_data",
       "png": "[encoded data removed]",
       "text": [
        "<matplotlib.figure.Figure at 0x7f54734b9710>"
       ]
      }
     ],
     "prompt_number": 4
    },
    {
     "cell_type": "markdown",
     "metadata": {},
     "source": [
      "Now for the RBF kernel."
     ]
    },
    {
     "cell_type": "code",
     "collapsed": false,
     "input": [
      "stats = rbf_svc.test(test_set)\n",
      "print(\"mean.accuracy = {0}\".format(stats['mean.accuracy']))\n",
      "print(\"auc = {0}\".format(stats['auc']))\n",
      "\n",
      "plt.figure()\n",
      "plt.plot(stats['roc']['fpr'],\n",
      "         stats['roc']['tpr'], \n",
      "         label='ROC curve')\n",
      "plt.plot([0, 1], [0, 1], 'k--')\n",
      "plt.xlabel('False Positive Rate')\n",
      "plt.ylabel('True Positive Rate')\n",
      "plt.show()"
     ],
     "language": "python",
     "metadata": {},
     "outputs": [
      {
       "output_type": "stream",
       "stream": "stdout",
       "text": [
        "mean.accuracy = 0.939\n",
        "auc = 0.7613872448890517\n"
       ]
      },
      {
       "metadata": {},
       "output_type": "display_data",
       "png": "[encoded data removed]",
       "text": [
        "<matplotlib.figure.Figure at 0x7f5447ba4f60>"
       ]
      }
     ],
     "prompt_number": 6
    },
    {
     "cell_type": "markdown",
     "metadata": {},
     "source": [
      "And there you have it. "
     ]
    },
    {
     "cell_type": "code",
     "collapsed": false,
     "input": [],
     "language": "python",
     "metadata": {},
     "outputs": []
    }
   ],
   "metadata": {}
  }
 ]
}