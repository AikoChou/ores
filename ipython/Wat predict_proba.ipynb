{
 "metadata": {
  "name": "",
  "signature": "sha256:973c8a39e0909debdd9db039c0d40cc4f728da95c475a827cf6c3a8f71239554"
 },
 "nbformat": 3,
 "nbformat_minor": 0,
 "worksheets": [
  {
   "cells": [
    {
     "cell_type": "markdown",
     "metadata": {},
     "source": [
      "# What on earth does predict_proba mean?\n",
      "\n",
      "In this notebook, I'll work through a few examples of predict_proba in an attempt to make sense of the world.  I'll start with my failings with SVC.  Then, we'll move on to other models that behave more reasonably. First, I must import my stuff."
     ]
    },
    {
     "cell_type": "code",
     "collapsed": false,
     "input": [
      "import random\n",
      "from sklearn.metrics import auc, roc_curve\n",
      "from matplotlib import pyplot as plt"
     ],
     "language": "python",
     "metadata": {},
     "outputs": [],
     "prompt_number": 20
    },
    {
     "cell_type": "markdown",
     "metadata": {},
     "source": [
      "Now, I must import my dataset."
     ]
    },
    {
     "cell_type": "code",
     "collapsed": false,
     "input": [
      "feature_scores = []\n",
      "with open(\"../datasets/enwiki.features_reverted.combined.tsv\") as f:\n",
      "    for line in f:\n",
      "        try:\n",
      "            parts = line.strip().split(\"\\t\")\n",
      "            values = parts[:-1]\n",
      "            reverted = parts[-1] == \"True\"\n",
      "\n",
      "            feature_values = []\n",
      "            for value in values:\n",
      "                #print(line)\n",
      "                if value in (\"True\", \"False\"):\n",
      "                    feature_values.append(value == \"True\")\n",
      "                else:\n",
      "                    feature_values.append(float(value))\n",
      "\n",
      "            feature_scores.append((feature_values, reverted))\n",
      "        except ValueError:\n",
      "            pass\n",
      "\n",
      "len(feature_scores)"
     ],
     "language": "python",
     "metadata": {},
     "outputs": [
      {
       "metadata": {},
       "output_type": "pyout",
       "prompt_number": 34,
       "text": [
        "10881"
       ]
      }
     ],
     "prompt_number": 34
    },
    {
     "cell_type": "markdown",
     "metadata": {},
     "source": [
      "Now I'll shuffle and split the data for training and testing as well as define a function that will help me run tests with the classifiers. "
     ]
    },
    {
     "cell_type": "code",
     "collapsed": false,
     "input": [
      "random.shuffle(feature_scores)\n",
      "train_set = feature_scores[:5000]\n",
      "test_set = feature_scores[5000:]\n",
      "\n",
      "def run_test(model, test_set):\n",
      "    values, reverteds = zip(*test_set)\n",
      "    values, reverteds = list(values), list(reverteds)\n",
      "\n",
      "    predictions = model.predict(values)\n",
      "    probabilities = [p[1] for p in model.predict_proba(values)]\n",
      "\n",
      "    fpr, tpr, thresholds = roc_curve(reverteds, probabilities)\n",
      "\n",
      "    table = {}\n",
      "    for reverted, predicted in zip(reverteds, predictions):\n",
      "        table[(reverted, predicted)] = \\\n",
      "                table.get((reverted, predicted), 0) + 1\n",
      "\n",
      "    return {\n",
      "        'table': table,\n",
      "        'mean.accuracy': model.score(values, reverteds),\n",
      "        'roc': {\n",
      "            'fpr': list(fpr),\n",
      "            'tpr': list(tpr),\n",
      "            'thresholds': list(thresholds)\n",
      "        },\n",
      "        'auc': auc(fpr, tpr)\n",
      "    }, list(zip(predictions, probabilities, reverteds))"
     ],
     "language": "python",
     "metadata": {},
     "outputs": [],
     "prompt_number": 35
    },
    {
     "cell_type": "markdown",
     "metadata": {},
     "source": [
      "# SVC -- Linear kernel\n",
      "This is the model that I am having the most issues with.  In this section, I'll demonstrate the problem."
     ]
    },
    {
     "cell_type": "code",
     "collapsed": false,
     "input": [
      "svc = svm.SVC(kernel=\"linear\", probability=True, class_weight=\"auto\")\n",
      "svc.fit([vals for vals, reverted in train_set], [reverted for vals, reverted in train_set])"
     ],
     "language": "python",
     "metadata": {},
     "outputs": [
      {
       "metadata": {},
       "output_type": "pyout",
       "prompt_number": 38,
       "text": [
        "SVC(C=1.0, cache_size=200, class_weight='auto', coef0=0.0, degree=3,\n",
        "  gamma=0.0, kernel='linear', max_iter=-1, probability=True,\n",
        "  random_state=None, shrinking=True, tol=0.001, verbose=False)"
       ]
      }
     ],
     "prompt_number": 38
    },
    {
     "cell_type": "code",
     "collapsed": false,
     "input": [
      "stats, svc_data = run_test(svc, test_set)\n",
      "print(stats['auc'])\n",
      "print(stats['table'])"
     ],
     "language": "python",
     "metadata": {},
     "outputs": [
      {
       "output_type": "stream",
       "stream": "stdout",
       "text": [
        "0.812407043926\n",
        "{(False, True): 1043, (True, False): 95, (False, False): 4506, (True, True): 237}\n"
       ]
      }
     ],
     "prompt_number": 39
    },
    {
     "cell_type": "markdown",
     "metadata": {},
     "source": [
      "OK.  .812 AUC is pretty good.  The confusion matrix looks pretty solid too.  No problem, right?  \n",
      "\n",
      "Well, the plot below shows that the probability estimates for obs. that the model predicts are True (reverted) are centered around 0.20.  Lame.  You'd think that it would be able to make predictions with higher confidence than that.  "
     ]
    },
    {
     "cell_type": "code",
     "collapsed": false,
     "input": [
      "plt.hist([proba for pred, proba, rev in svc_data if pred == True], bins=20)"
     ],
     "language": "python",
     "metadata": {},
     "outputs": [
      {
       "metadata": {},
       "output_type": "pyout",
       "prompt_number": 40,
       "text": [
        "(array([  35.,   23.,   14.,   18.,    6.,    9.,   24.,   97.,  397.,\n",
        "         458.,  121.,   37.,   10.,   10.,    4.,    9.,    4.,    2.,\n",
        "           1.,    1.]),\n",
        " array([ 0.06115669,  0.07478822,  0.08841974,  0.10205127,  0.11568279,\n",
        "         0.12931431,  0.14294584,  0.15657736,  0.17020889,  0.18384041,\n",
        "         0.19747193,  0.21110346,  0.22473498,  0.23836651,  0.25199803,\n",
        "         0.26562955,  0.27926108,  0.2928926 ,  0.30652413,  0.32015565,\n",
        "         0.33378717]),\n",
        " <a list of 20 Patch objects>)"
       ]
      },
      {
       "metadata": {},
       "output_type": "display_data",
       "png": "[encoded data removed]",
       "text": [
        "<matplotlib.figure.Figure at 0x7ff2fe367a20>"
       ]
      }
     ],
     "prompt_number": 40
    },
    {
     "cell_type": "markdown",
     "metadata": {},
     "source": [
      "Let's try the same thing where the SVC predicts False (not reverted)."
     ]
    },
    {
     "cell_type": "code",
     "collapsed": false,
     "input": [
      "plt.hist([proba for pred, proba, rev in svc_data if pred == False], bins=20)"
     ],
     "language": "python",
     "metadata": {},
     "outputs": [
      {
       "metadata": {},
       "output_type": "pyout",
       "prompt_number": 44,
       "text": [
        "(array([  397.,  1673.,  1221.,   448.,   278.,   174.,   102.,    76.,\n",
        "           44.,    39.,    20.,    21.,    21.,    15.,    16.,    14.,\n",
        "            8.,    10.,    11.,    13.]),\n",
        " array([ 0.01223151,  0.01470285,  0.01717419,  0.01964553,  0.02211687,\n",
        "         0.02458821,  0.02705955,  0.02953089,  0.03200223,  0.03447357,\n",
        "         0.03694491,  0.03941625,  0.04188759,  0.04435893,  0.04683027,\n",
        "         0.04930161,  0.05177295,  0.05424429,  0.05671563,  0.05918697,\n",
        "         0.06165831]),\n",
        " <a list of 20 Patch objects>)"
       ]
      },
      {
       "metadata": {},
       "output_type": "display_data",
       "png": "[encoded data removed]",
       "text": [
        "<matplotlib.figure.Figure at 0x7ff2fe3dc438>"
       ]
      }
     ],
     "prompt_number": 44
    },
    {
     "cell_type": "markdown",
     "metadata": {},
     "source": [
      "Well, at least it seems to be jammed up against the left side.  This makes sense."
     ]
    },
    {
     "cell_type": "markdown",
     "metadata": {},
     "source": [
      "# SVC (rbf)"
     ]
    },
    {
     "cell_type": "code",
     "collapsed": false,
     "input": [
      "svc = svm.SVC(kernel=\"rbf\", probability=True, class_weight=\"auto\")\n",
      "svc.fit([vals for vals, reverted in train_set], [reverted for vals, reverted in train_set])"
     ],
     "language": "python",
     "metadata": {},
     "outputs": [
      {
       "metadata": {},
       "output_type": "pyout",
       "prompt_number": 47,
       "text": [
        "SVC(C=1.0, cache_size=200, class_weight='auto', coef0=0.0, degree=3,\n",
        "  gamma=0.0, kernel='rbf', max_iter=-1, probability=True,\n",
        "  random_state=None, shrinking=True, tol=0.001, verbose=False)"
       ]
      }
     ],
     "prompt_number": 47
    },
    {
     "cell_type": "code",
     "collapsed": false,
     "input": [
      "stats, svc_rbf_data = run_test(svc, test_set)\n",
      "print(stats['auc'])\n",
      "print(stats['table'])"
     ],
     "language": "python",
     "metadata": {},
     "outputs": [
      {
       "output_type": "stream",
       "stream": "stdout",
       "text": [
        "0.799057466123\n",
        "{(False, True): 823, (True, False): 122, (False, False): 4726, (True, True): 210}\n"
       ]
      }
     ],
     "prompt_number": 48
    },
    {
     "cell_type": "markdown",
     "metadata": {},
     "source": [
      "0.799 AUC is pretty good.  Not as good as the linear model, but pretty good.  OK.  Let's try the histograms."
     ]
    },
    {
     "cell_type": "code",
     "collapsed": false,
     "input": [
      "plt.hist([proba for pred, proba, rev in svc_rbf_data if pred == True], bins=20)"
     ],
     "language": "python",
     "metadata": {},
     "outputs": [
      {
       "metadata": {},
       "output_type": "pyout",
       "prompt_number": 49,
       "text": [
        "(array([ 104.,   76.,   75.,   71.,   74.,   55.,   62.,   57.,   58.,\n",
        "          59.,   57.,   62.,   65.,   50.,   38.,   26.,   14.,   12.,\n",
        "           7.,   11.]),\n",
        " array([ 0.08382146,  0.09912256,  0.11442365,  0.12972474,  0.14502583,\n",
        "         0.16032692,  0.17562801,  0.1909291 ,  0.20623019,  0.22153128,\n",
        "         0.23683238,  0.25213347,  0.26743456,  0.28273565,  0.29803674,\n",
        "         0.31333783,  0.32863892,  0.34394001,  0.3592411 ,  0.3745422 ,\n",
        "         0.38984329]),\n",
        " <a list of 20 Patch objects>)"
       ]
      },
      {
       "metadata": {},
       "output_type": "display_data",
       "png": "[encoded data removed]",
       "text": [
        "<matplotlib.figure.Figure at 0x7ff2fef0b2b0>"
       ]
      }
     ],
     "prompt_number": 49
    },
    {
     "cell_type": "markdown",
     "metadata": {},
     "source": [
      "Well.  That doesn't look like the plot for Linear, but it's still not jammed up against the right side."
     ]
    },
    {
     "cell_type": "code",
     "collapsed": false,
     "input": [
      "plt.hist([proba for pred, proba, rev in svc_rbf_data if pred == False], bins=20)"
     ],
     "language": "python",
     "metadata": {},
     "outputs": [
      {
       "metadata": {},
       "output_type": "pyout",
       "prompt_number": 50,
       "text": [
        "(array([  150.,   684.,  1156.,   960.,   537.,   289.,   238.,   167.,\n",
        "          113.,    94.,    79.,    65.,    57.,    62.,    48.,    29.,\n",
        "           39.,    34.,    27.,    20.]),\n",
        " array([ 0.00779329,  0.0115898 ,  0.01538631,  0.01918282,  0.02297933,\n",
        "         0.02677584,  0.03057235,  0.03436886,  0.03816537,  0.04196188,\n",
        "         0.04575839,  0.0495549 ,  0.05335141,  0.05714792,  0.06094443,\n",
        "         0.06474094,  0.06853745,  0.07233396,  0.07613047,  0.07992698,\n",
        "         0.08372349]),\n",
        " <a list of 20 Patch objects>)"
       ]
      },
      {
       "metadata": {},
       "output_type": "display_data",
       "png": "[encoded data removed]",
       "text": [
        "<matplotlib.figure.Figure at 0x7ff2ff19b518>"
       ]
      }
     ],
     "prompt_number": 50
    },
    {
     "cell_type": "markdown",
     "metadata": {},
     "source": [
      "That looks pretty close to the Linear SVC."
     ]
    },
    {
     "cell_type": "markdown",
     "metadata": {},
     "source": [
      "# Naive Bayes (Multinomial)\n",
      "Now, let's try the same thing with a Naive Bayes classifier.  "
     ]
    },
    {
     "cell_type": "code",
     "collapsed": false,
     "input": [
      "mnb = naive_bayes.MultinomialNB()\n",
      "mnb.fit([data[0] for data in train_set], [data[1] for data in train_set])\n",
      "stats, mnb_data = run_test(mnb, test_set)\n",
      "print(stats['auc'])\n",
      "print(stats['table'])"
     ],
     "language": "python",
     "metadata": {},
     "outputs": [
      {
       "output_type": "stream",
       "stream": "stdout",
       "text": [
        "0.792948691504\n",
        "{(False, True): 871, (True, False): 128, (False, False): 4678, (True, True): 204}\n"
       ]
      }
     ],
     "prompt_number": 41
    },
    {
     "cell_type": "markdown",
     "metadata": {},
     "source": [
      "A 0.79 AUC is pretty decent.  Not quite as good as the SVC above, but still pretty good.  Now look what happens when I plot the probabilities of True (reverted) below."
     ]
    },
    {
     "cell_type": "code",
     "collapsed": false,
     "input": [
      "plt.hist([proba for pred, proba, rev in data if pred == True], bins=20)"
     ],
     "language": "python",
     "metadata": {},
     "outputs": [
      {
       "metadata": {},
       "output_type": "pyout",
       "prompt_number": 31,
       "text": [
        "(array([   3.,    1.,    2.,    1.,    1.,    2.,    2.,    2.,    4.,\n",
        "           3.,    6.,    4.,    6.,    3.,    4.,    6.,   17.,   34.,\n",
        "          59.,  967.]),\n",
        " array([ 0.50679882,  0.53145888,  0.55611894,  0.580779  ,  0.60543906,\n",
        "         0.63009912,  0.65475918,  0.67941923,  0.70407929,  0.72873935,\n",
        "         0.75339941,  0.77805947,  0.80271953,  0.82737959,  0.85203965,\n",
        "         0.87669971,  0.90135976,  0.92601982,  0.95067988,  0.97533994,  1.        ]),\n",
        " <a list of 20 Patch objects>)"
       ]
      },
      {
       "metadata": {},
       "output_type": "display_data",
       "png": "[encoded data removed]",
       "text": [
        "<matplotlib.figure.Figure at 0x7ff2fe2ba320>"
       ]
      }
     ],
     "prompt_number": 31
    },
    {
     "cell_type": "markdown",
     "metadata": {},
     "source": [
      "All the predictions are jammed up against the right side (1.0).  That's exactly what I expected.  Let's check it for the predictions that are False (not reverted)."
     ]
    },
    {
     "cell_type": "code",
     "collapsed": false,
     "input": [
      "plt.hist([proba for pred, proba, rev in data if pred == False], bins=20)"
     ],
     "language": "python",
     "metadata": {},
     "outputs": [
      {
       "metadata": {},
       "output_type": "pyout",
       "prompt_number": 43,
       "text": [
        "(array([  4.64500000e+03,   2.20000000e+01,   1.70000000e+01,\n",
        "          1.10000000e+01,   1.20000000e+01,   6.00000000e+00,\n",
        "          4.00000000e+00,   2.00000000e+00,   6.00000000e+00,\n",
        "          3.00000000e+00,   3.00000000e+00,   2.00000000e+00,\n",
        "          4.00000000e+00,   0.00000000e+00,   0.00000000e+00,\n",
        "          3.00000000e+00,   4.00000000e+00,   3.00000000e+00,\n",
        "          3.00000000e+00,   4.00000000e+00]),\n",
        " array([  9.62663647e-09,   2.46385967e-02,   4.92771838e-02,\n",
        "          7.39157708e-02,   9.85543579e-02,   1.23192945e-01,\n",
        "          1.47831532e-01,   1.72470119e-01,   1.97108706e-01,\n",
        "          2.21747293e-01,   2.46385880e-01,   2.71024467e-01,\n",
        "          2.95663054e-01,   3.20301641e-01,   3.44940229e-01,\n",
        "          3.69578816e-01,   3.94217403e-01,   4.18855990e-01,\n",
        "          4.43494577e-01,   4.68133164e-01,   4.92771751e-01]),\n",
        " <a list of 20 Patch objects>)"
       ]
      },
      {
       "metadata": {},
       "output_type": "display_data",
       "png": "[encoded data removed]",
       "text": [
        "<matplotlib.figure.Figure at 0x7ff2fe384c18>"
       ]
      }
     ],
     "prompt_number": 43
    },
    {
     "cell_type": "markdown",
     "metadata": {},
     "source": [
      "And again, we're jammed up against the left side (0.0).  This seems perfectly natural.  What the heck is going on?"
     ]
    },
    {
     "cell_type": "code",
     "collapsed": false,
     "input": [],
     "language": "python",
     "metadata": {},
     "outputs": []
    }
   ],
   "metadata": {}
  }
 ]
}