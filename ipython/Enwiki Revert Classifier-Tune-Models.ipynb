{
 "metadata": {
  "name": "",
  "signature": "sha256:d980a4356653996062e26cf6b925dfeea6a84b49a787eaee1311136b6172dee6"
 },
 "nbformat": 3,
 "nbformat_minor": 0,
 "worksheets": [
  {
   "cells": [
    {
     "cell_type": "markdown",
     "metadata": {},
     "source": [
      "# Building and testing the enwiki revert classifer\n",
      "In this notebook, I'm going to build a revscores classification model for reverts in Wikipedia.  \n",
      "\n",
      "## Revision sample\n",
      "In order to build up a classifer, we'll need labeled data.  In order to gather such a set of labeled data, I chose to make use of Quarry.  http://quarry.wmflabs.org/query/1621 queries for a random sample of recent revisions that were saved between 2 and 30 days ago.\n",
      "\n",
      "## Labels and features\n",
      "I've written a script to help gather both the labels and reverted status of these revisions.  \n",
      "\n",
      "    Gathers a set of features and reverted status for a set of revisions and\n",
      "    prints a TSV to stdout of the format:\n",
      "\n",
      "    <feature_value1>\\t<feature_value2>\\t...\\t<reverted>\n",
      "\n",
      "    Usage:\n",
      "        features_reverted -h | --help\n",
      "        features_reverted --api=<url> --language=<clspath> <features> [--rev_ids=<path>]\n",
      "        \n",
      "    Options:\n",
      "        -h --help             Prints out this documentation\n",
      "        <features>            The ClassPath to a list of features to extract.\n",
      "        --api=<url>           The url of the API to use to extract features\n",
      "        --language=<clspath>  The ClassPath to a language to use (required for some\n",
      "                              features)\n",
      "        --rev_pages=<path>    The location of a file containing rev_ids and\n",
      "                              page_ids to extract. [default: <stdin>]\n",
      "\n",
      "I've already prepared a list of features to extract in ores.models.enwiki.features, so that can just be used by the script. "
     ]
    },
    {
     "cell_type": "code",
     "collapsed": false,
     "input": [
      "import sys;sys.path.insert(0, \"../\") # Makes ores package accessible\n",
      "from ores.models.enwiki import features\n",
      "features"
     ],
     "language": "python",
     "metadata": {},
     "outputs": [
      {
       "metadata": {},
       "output_type": "pyout",
       "prompt_number": 1,
       "text": [
        "[<log(added_badwords_ratio + 1)>,\n",
        " <log(added_misspellings_ratio + 1)>,\n",
        " <log(longest_repeated_char_added + 1)>,\n",
        " <log(longest_token_added + 1)>,\n",
        " <log(numeric_chars_added + 1)>,\n",
        " <log(prev_words + 1)>,\n",
        " <log(proportion_of_markup_added + 1)>,\n",
        " <log(proportion_of_numeric_added + 1)>,\n",
        " <log(proportion_of_symbolic_added + 1)>,\n",
        " <log(proportion_of_uppercase_added + 1)>,\n",
        " <log(seconds_since_last_page_edit + 1)>,\n",
        " <log(words_added + 1)>,\n",
        " <log(words_removed + 1)>,\n",
        " <log(user_age_in_seconds + 1)>,\n",
        " <user_is_anon>,\n",
        " <user_is_bot>,\n",
        " <day_of_week_in_utc>,\n",
        " <hour_of_day_in_utc>,\n",
        " <is_custom_comment>,\n",
        " <is_content_namespace>,\n",
        " <is_section_comment>]"
       ]
      }
     ],
     "prompt_number": 1
    },
    {
     "cell_type": "markdown",
     "metadata": {},
     "source": [
      "OK.  Time to gather features and reverted status.  To do so, I run the following:\n",
      "\n",
      "    $ cat datasets/enwiki.rev_pages.5k.tsv | tail -n+2 | \\\n",
      "      ./features_reverted \\\n",
      "          --api=https://en.wikipedia.org/w/api.php \\\n",
      "          --language=revscores.languages.english \\\n",
      "          ores.models.enwiki.features > \\\n",
      "      datasets/enwiki.features_reverted.5k.tsv\n",
      "\n",
      "A few of the revisions won't be found -- which is fine.  We'll just have to work with the remaining data.  So, let's load it in!"
     ]
    },
    {
     "cell_type": "code",
     "collapsed": false,
     "input": [
      "feature_scores = []\n",
      "with open(\"../datasets/enwiki.features_reverted.tsv\") as f:\n",
      "    for line in f:\n",
      "        parts = line.strip().split(\"\\t\")\n",
      "        values = parts[:-1]\n",
      "        reverted = parts[-1] == \"True\"\n",
      "        \n",
      "        feature_values = []\n",
      "        for feature, value in zip(features, values):\n",
      "            \n",
      "            if feature.returns == bool:\n",
      "                feature_values.append(value == \"True\")\n",
      "            else:\n",
      "                feature_values.append(feature.returns(value))\n",
      "    \n",
      "        feature_scores.append((feature_values, reverted))\n",
      "\n",
      "\n"
     ],
     "language": "python",
     "metadata": {},
     "outputs": [],
     "prompt_number": 2
    },
    {
     "cell_type": "markdown",
     "metadata": {},
     "source": [
      "#Tuning the model"
     ]
    },
    {
     "cell_type": "code",
     "collapsed": false,
     "input": [
      "import numpy as np\n",
      "import pandas as pd\n",
      "from sklearn.preprocessing import StandardScaler\n",
      "from sklearn.ensemble import RandomForestClassifier, GradientBoostingClassifier\n",
      "from sklearn.linear_model import LogisticRegression \n",
      "from sklearn.svm import LinearSVC, SVC\n",
      "from sklearn import cross_validation\n",
      "from sklearn.cross_validation import StratifiedKFold, StratifiedShuffleSplit\n",
      "from sklearn import svm, grid_search\n",
      "import multiprocessing\n",
      "from sklearn.metrics import roc_curve, auc, precision_recall_curve, f1_score, accuracy_score, accuracy_score, precision_score, recall_score, roc_auc_score, precision_recall_fscore_support\n",
      "\n",
      "\n"
     ],
     "language": "python",
     "metadata": {},
     "outputs": [],
     "prompt_number": 3
    },
    {
     "cell_type": "code",
     "collapsed": false,
     "input": [
      "X = [v[0] for v in feature_scores]\n",
      "y = [v[1] for v in feature_scores]\n",
      "X = np.array(X)\n",
      "y = np.array(y)\n",
      "scaler = StandardScaler().fit(X)\n",
      "X_standard = scaler.transform(X) "
     ],
     "language": "python",
     "metadata": {},
     "outputs": [],
     "prompt_number": 4
    },
    {
     "cell_type": "code",
     "collapsed": false,
     "input": [
      "print (len(X), len(y))\n",
      "print(pd.Series(y).value_counts())\n"
     ],
     "language": "python",
     "metadata": {},
     "outputs": [
      {
       "output_type": "stream",
       "stream": "stdout",
       "text": [
        "12562 12562\n",
        "False    11821\n",
        "True       741\n",
        "dtype: int64\n"
       ]
      }
     ],
     "prompt_number": 5
    },
    {
     "cell_type": "markdown",
     "metadata": {},
     "source": [
      "Huh most edits don't get reverted?"
     ]
    },
    {
     "cell_type": "code",
     "collapsed": false,
     "input": [
      "\n",
      "# This is wrapper around sklearns hyper-parameter tuning utility: Grid search\n",
      "# For each set of hyper-parameters, we divide the data into k folds, where each fold tries to maintain the original\n",
      "# class balance (StratifiedKFold). Then for each fold, we train a model on all the \n",
      "#other folds and test on the held out fold. We average the score over the 5 folds, to get a sense of test performance.\n",
      "\n",
      "def cv (X, y, folds, clf, param_grid, scoring):\n",
      "    \"\"\"\n",
      "    Determine the best model via cross validation. This should be run on training data.\n",
      "    \"\"\"\n",
      "\n",
      "    print(\"\\n\\n\\nDoing Gridsearch\\n\")\n",
      "\n",
      "    strat_cv = cross_validation.StratifiedKFold(y, n_folds = folds)\n",
      "    model = grid_search.GridSearchCV(cv  = strat_cv, estimator = clf, param_grid  = param_grid, scoring = scoring, n_jobs=multiprocessing.cpu_count())\n",
      "    model = model.fit(X,y)\n",
      "    # model trained on all data\n",
      "    y_pred = model.predict(X)\n",
      "    scores = get_scores(model, X)\n",
      "    print(\"Best Model Train ROC AUC: %f\" % roc_auc_score(y, scores))\n",
      "    print(\"Best Model Train F1: %f\" % f1_score(y, y_pred))\n",
      "\n",
      "    print(\"\\nTest Set Statistics:\")\n",
      "    print(\"\\nBest parameters set found:\")\n",
      "    best_parameters, score, _ = max(model.grid_scores_, key=lambda x: x[1])\n",
      "    print(best_parameters, score)\n",
      "    print (\"\\n\")\n",
      "    print(\"Grid scores:\")\n",
      "    for params, mean_score, scores in model.grid_scores_:\n",
      "        print(\"%0.3f (+/-%0.03f) for %r\"\n",
      "              % (mean_score, scores.std() / 2, params))\n",
      "\n",
      "    return model\n",
      "\n",
      "# Do compute an ROC score, you need scores for each example, either a class probability \n",
      "# of a distance from the decision boundary\n",
      "def get_scores(model, X):\n",
      "    try:\n",
      "        scores = model.decision_function(X)\n",
      "    except:\n",
      "        scores = model.predict_proba(X)[:, 1]\n",
      "    return scores"
     ],
     "language": "python",
     "metadata": {},
     "outputs": [],
     "prompt_number": 9
    },
    {
     "cell_type": "code",
     "collapsed": false,
     "input": [
      "scoring = 'roc_auc' # we want to model with highest roc-auc\n",
      "folds = 5"
     ],
     "language": "python",
     "metadata": {},
     "outputs": [],
     "prompt_number": 10
    },
    {
     "cell_type": "markdown",
     "metadata": {},
     "source": [
      "Now lets test a bunch of algorithms and tune their hyper prameters"
     ]
    },
    {
     "cell_type": "code",
     "collapsed": false,
     "input": [
      "\n",
      "clf = RandomForestClassifier()\n",
      "param_grid  = {'n_estimators' : [40, 100, 500, 600, 800], 'max_features' : ['log2'] }\n",
      "model = cv (X, y, folds, clf, param_grid, scoring)"
     ],
     "language": "python",
     "metadata": {},
     "outputs": [
      {
       "output_type": "stream",
       "stream": "stdout",
       "text": [
        "\n",
        "\n",
        "\n",
        "Doing Gridsearch\n",
        "\n"
       ]
      },
      {
       "output_type": "stream",
       "stream": "stdout",
       "text": [
        "Best Model Train ROC AUC: 1.000000\n",
        "Best Model Train F1: 1.000000\n",
        "\n",
        "Test Set Statistics:\n",
        "\n",
        "Best parameters set found:\n",
        "{'max_features': 'log2', 'n_estimators': 500} 0.841827097612\n",
        "\n",
        "\n",
        "Grid scores:\n",
        "0.825 (+/-0.009) for {'max_features': 'log2', 'n_estimators': 40}\n",
        "0.836 (+/-0.011) for {'max_features': 'log2', 'n_estimators': 100}\n",
        "0.842 (+/-0.010) for {'max_features': 'log2', 'n_estimators': 500}\n",
        "0.838 (+/-0.010) for {'max_features': 'log2', 'n_estimators': 600}\n",
        "0.842 (+/-0.008) for {'max_features': 'log2', 'n_estimators': 800}\n"
       ]
      }
     ],
     "prompt_number": 11
    },
    {
     "cell_type": "code",
     "collapsed": false,
     "input": [
      "clf = GradientBoostingClassifier()\n",
      "param_grid  = {'n_estimators' : [150, 250, 500],'max_depth': [4, 5,6], 'max_features' : ['log2'],'learning_rate': [0.01] }\n",
      "model = cv (X, y, folds, clf, param_grid, scoring)"
     ],
     "language": "python",
     "metadata": {},
     "outputs": [
      {
       "output_type": "stream",
       "stream": "stdout",
       "text": [
        "\n",
        "\n",
        "\n",
        "Doing Gridsearch\n",
        "\n"
       ]
      },
      {
       "output_type": "stream",
       "stream": "stdout",
       "text": [
        "Best Model Train ROC AUC: 0.937829\n",
        "Best Model Train F1: 0.334448\n",
        "\n",
        "Test Set Statistics:\n",
        "\n",
        "Best parameters set found:\n",
        "{'learning_rate': 0.01, 'max_features': 'log2', 'n_estimators': 500, 'max_depth': 5} 0.848019659924\n",
        "\n",
        "\n",
        "Grid scores:\n",
        "0.835 (+/-0.008) for {'learning_rate': 0.01, 'max_features': 'log2', 'n_estimators': 150, 'max_depth': 4}\n",
        "0.839 (+/-0.009) for {'learning_rate': 0.01, 'max_features': 'log2', 'n_estimators': 250, 'max_depth': 4}\n",
        "0.846 (+/-0.009) for {'learning_rate': 0.01, 'max_features': 'log2', 'n_estimators': 500, 'max_depth': 4}\n",
        "0.839 (+/-0.009) for {'learning_rate': 0.01, 'max_features': 'log2', 'n_estimators': 150, 'max_depth': 5}\n",
        "0.843 (+/-0.009) for {'learning_rate': 0.01, 'max_features': 'log2', 'n_estimators': 250, 'max_depth': 5}\n",
        "0.848 (+/-0.010) for {'learning_rate': 0.01, 'max_features': 'log2', 'n_estimators': 500, 'max_depth': 5}\n",
        "0.841 (+/-0.009) for {'learning_rate': 0.01, 'max_features': 'log2', 'n_estimators': 150, 'max_depth': 6}\n",
        "0.845 (+/-0.009) for {'learning_rate': 0.01, 'max_features': 'log2', 'n_estimators': 250, 'max_depth': 6}\n",
        "0.848 (+/-0.010) for {'learning_rate': 0.01, 'max_features': 'log2', 'n_estimators': 500, 'max_depth': 6}\n"
       ]
      }
     ],
     "prompt_number": 12
    },
    {
     "cell_type": "code",
     "collapsed": false,
     "input": [
      "clf = LinearSVC()\n",
      "param_grid  = {'C' : [0.001, 0.005, 0.01, 0.05, 0.1, 1, 10, 100]}\n",
      "model = cv (X, y, folds, clf, param_grid, scoring)"
     ],
     "language": "python",
     "metadata": {},
     "outputs": [
      {
       "output_type": "stream",
       "stream": "stdout",
       "text": [
        "\n",
        "\n",
        "\n",
        "Doing Gridsearch\n",
        "\n"
       ]
      },
      {
       "output_type": "stream",
       "stream": "stdout",
       "text": [
        "Best Model Train ROC AUC: 0.826363\n",
        "Best Model Train F1: 0.042161\n",
        "\n",
        "Test Set Statistics:\n",
        "\n",
        "Best parameters set found:\n",
        "{'C': 0.01} 0.823139800837\n",
        "\n",
        "\n",
        "Grid scores:\n",
        "0.806 (+/-0.011) for {'C': 0.001}\n",
        "0.822 (+/-0.008) for {'C': 0.005}\n",
        "0.823 (+/-0.007) for {'C': 0.01}\n",
        "0.823 (+/-0.007) for {'C': 0.05}\n",
        "0.823 (+/-0.007) for {'C': 0.1}\n",
        "0.804 (+/-0.015) for {'C': 1}\n",
        "0.727 (+/-0.055) for {'C': 10}\n",
        "0.593 (+/-0.068) for {'C': 100}\n"
       ]
      }
     ],
     "prompt_number": 13
    },
    {
     "cell_type": "code",
     "collapsed": false,
     "input": [
      "# Here I am using the standardized data\n",
      "clf = LinearSVC()\n",
      "param_grid  = {'C' : [0.001, 0.005, 0.01, 0.05, 0.1, 1, 10, 100]}\n",
      "model = cv (X_standard, y, folds, clf, param_grid, scoring)"
     ],
     "language": "python",
     "metadata": {},
     "outputs": [
      {
       "output_type": "stream",
       "stream": "stdout",
       "text": [
        "\n",
        "\n",
        "\n",
        "Doing Gridsearch\n",
        "\n"
       ]
      },
      {
       "output_type": "stream",
       "stream": "stdout",
       "text": [
        "Best Model Train ROC AUC: 0.826124\n",
        "Best Model Train F1: 0.044737\n",
        "\n",
        "Test Set Statistics:\n",
        "\n",
        "Best parameters set found:\n",
        "{'C': 0.01} 0.822790267566\n",
        "\n",
        "\n",
        "Grid scores:\n",
        "0.819 (+/-0.008) for {'C': 0.001}\n",
        "0.823 (+/-0.007) for {'C': 0.005}\n",
        "0.823 (+/-0.007) for {'C': 0.01}\n",
        "0.823 (+/-0.007) for {'C': 0.05}\n",
        "0.822 (+/-0.007) for {'C': 0.1}\n",
        "0.823 (+/-0.007) for {'C': 1}\n",
        "0.811 (+/-0.006) for {'C': 10}\n",
        "0.701 (+/-0.024) for {'C': 100}\n"
       ]
      }
     ],
     "prompt_number": 14
    },
    {
     "cell_type": "code",
     "collapsed": false,
     "input": [
      "# This takes too long :(\n",
      "C_range = 10.0 ** np.arange(-2, 9)\n",
      "gamma_range = 10.0 ** np.arange(-5, 4)\n",
      "param_grid = dict(gamma=gamma_range, C=C_range)\n",
      "clf = SVC() #uses rbf kernel as defualt\n",
      "model = cv (X, y, folds, clf, param_grid, scoring)"
     ],
     "language": "python",
     "metadata": {},
     "outputs": [],
     "prompt_number": 59
    },
    {
     "cell_type": "code",
     "collapsed": false,
     "input": [],
     "language": "python",
     "metadata": {},
     "outputs": []
    },
    {
     "cell_type": "markdown",
     "metadata": {},
     "source": [
      "## Training the models\n",
      "\n",
      "Now we'll use the extracted features to train some models.  For this section, I'll use an RBF and Linear kernel Support Vector Classifiers."
     ]
    },
    {
     "cell_type": "code",
     "collapsed": false,
     "input": [
      "from ores.models.enwiki import linear_svc, rbf_svc\n",
      "from random import shuffle\n",
      "shuffle(feature_scores) # Randomize the set\n",
      "\n",
      "train_set = feature_scores[1000:] # Nearly 4000 training observations\n",
      "test_set = feature_scores[:1000]  # 1000 test observations\n",
      "\n",
      "print(linear_svc.train(train_set))\n",
      "print(rbf_svc.train(train_set))"
     ],
     "language": "python",
     "metadata": {},
     "outputs": [
      {
       "output_type": "stream",
       "stream": "stdout",
       "text": [
        "{'seconds_elapsed': 80.63464593887329}\n",
        "{'seconds_elapsed': 20.13397192955017}"
       ]
      },
      {
       "output_type": "stream",
       "stream": "stdout",
       "text": [
        "\n"
       ]
      }
     ],
     "prompt_number": 56
    },
    {
     "cell_type": "markdown",
     "metadata": {},
     "source": [
      "## Testing the models\n",
      "\n",
      "First, the linear kernel."
     ]
    },
    {
     "cell_type": "code",
     "collapsed": false,
     "input": [
      "import matplotlib.pyplot as plt\n",
      "%matplotlib inline\n",
      "\n",
      "stats = linear_svc.test(test_set)\n",
      "print(\"mean.accuracy = {0}\".format(stats['mean.accuracy']))\n",
      "print(\"auc = {0}\".format(stats['auc']))\n",
      "\n",
      "\n",
      "plt.figure()\n",
      "plt.plot(stats['roc']['fpr'],\n",
      "         stats['roc']['tpr'], \n",
      "         label='ROC curve')\n",
      "plt.plot([0, 1], [0, 1], 'k--')\n",
      "plt.xlabel('False Positive Rate')\n",
      "plt.ylabel('True Positive Rate')\n",
      "plt.show()"
     ],
     "language": "python",
     "metadata": {},
     "outputs": [
      {
       "output_type": "stream",
       "stream": "stdout",
       "text": [
        "mean.accuracy = 0.933\n",
        "auc = 0.7988993937067077\n"
       ]
      },
      {
       "metadata": {},
       "output_type": "display_data",
       "png": "[encoded data removed]",
       "text": [
        "<matplotlib.figure.Figure at 0x10b8e2b50>"
       ]
      }
     ],
     "prompt_number": 57
    },
    {
     "cell_type": "markdown",
     "metadata": {},
     "source": [
      "Now for the RBF kernel."
     ]
    },
    {
     "cell_type": "code",
     "collapsed": false,
     "input": [
      "stats = rbf_svc.test(test_set)\n",
      "print(\"mean.accuracy = {0}\".format(stats['mean.accuracy']))\n",
      "print(\"auc = {0}\".format(stats['auc']))\n",
      "\n",
      "plt.figure()\n",
      "plt.plot(stats['roc']['fpr'],\n",
      "         stats['roc']['tpr'], \n",
      "         label='ROC curve')\n",
      "plt.plot([0, 1], [0, 1], 'k--')\n",
      "plt.xlabel('False Positive Rate')\n",
      "plt.ylabel('True Positive Rate')\n",
      "plt.show()"
     ],
     "language": "python",
     "metadata": {},
     "outputs": [
      {
       "output_type": "stream",
       "stream": "stdout",
       "text": [
        "mean.accuracy = 0.933\n",
        "auc = 0.7813824766841035\n"
       ]
      },
      {
       "metadata": {},
       "output_type": "display_data",
       "png": "[encoded data removed]",
       "text": [
        "<matplotlib.figure.Figure at 0x10cdc3e90>"
       ]
      }
     ],
     "prompt_number": 58
    },
    {
     "cell_type": "markdown",
     "metadata": {},
     "source": [
      "And there you have it. "
     ]
    },
    {
     "cell_type": "code",
     "collapsed": false,
     "input": [],
     "language": "python",
     "metadata": {},
     "outputs": []
    }
   ],
   "metadata": {}
  }
 ]
}